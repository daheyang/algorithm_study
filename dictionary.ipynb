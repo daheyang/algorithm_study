{
  "nbformat": 4,
  "nbformat_minor": 0,
  "metadata": {
    "colab": {
      "name": "dictionary.ipynb",
      "provenance": [],
      "authorship_tag": "ABX9TyNiPkW+j/QGAYkg6QCzUyKF"
    },
    "kernelspec": {
      "name": "python3",
      "display_name": "Python 3"
    },
    "language_info": {
      "name": "python"
    }
  },
  "cells": [
    {
      "cell_type": "markdown",
      "metadata": {
        "id": "SInloPLRf9Rf"
      },
      "source": [
        "# 사전자료형 dictionary\n",
        "\n",
        "date['key'] = 'value'"
      ]
    },
    {
      "cell_type": "code",
      "metadata": {
        "colab": {
          "base_uri": "https://localhost:8080/"
        },
        "id": "8hqAtguJf62c",
        "outputId": "7368f662-6c14-4c4f-eeb5-167e2b6e97b9"
      },
      "source": [
        "data =dict() #data: dictionary 변수 이름\n",
        "data['name'] = 'dahe' #dictionary 추가\n",
        "data['phone'] = '01012345678'\n",
        "data['birth'] = '1213'\n",
        "\n",
        "print('data = ', data)\n",
        "print(data['birth']) #특정 key의 value 출력\n",
        "\n",
        "key_list = data.keys()\n",
        "value_list = data.values()\n",
        "print(key_list)\n",
        "print(value_list)\n",
        "\n",
        "#각 key에 따른 value를 하나씩 출력\n",
        "for key in key_list:\n",
        "  print(data[key])"
      ],
      "execution_count": null,
      "outputs": [
        {
          "output_type": "stream",
          "text": [
            "data =  {'name': 'dahe', 'phone': '01012345678', 'birth': '1213'}\n",
            "1213\n",
            "dict_keys(['name', 'phone', 'birth'])\n",
            "dict_values(['dahe', '01012345678', '1213'])\n",
            "dahe\n",
            "01012345678\n",
            "1213\n"
          ],
          "name": "stdout"
        }
      ]
    },
    {
      "cell_type": "markdown",
      "metadata": {
        "id": "GsCF6TaTgJND"
      },
      "source": [
        "\n",
        "key(): key data만 뽑아 list로 이용\n",
        "\n",
        "value(): value data만 뽑아 list로 이용"
      ]
    },
    {
      "cell_type": "code",
      "metadata": {
        "colab": {
          "base_uri": "https://localhost:8080/"
        },
        "id": "LuHl00oOgIwB",
        "outputId": "760b14cf-3bde-4f1c-e5e1-558b914e0512"
      },
      "source": [
        "a = dict()\n",
        "a['지민'] = '00'\n",
        "a['영수'] = '02'\n",
        "a['민정'] = '01'\n",
        "a['하준'] = '00'\n",
        "\n",
        "print(\"a = \", a)\n",
        "\n",
        "# 중괄호 이용한 다른 방식\n",
        "b = {\n",
        "    '지민': '00',\n",
        "    '영수': '02',\n",
        "    '민정': '01',\n",
        "    '하준': '00'\n",
        "}\n",
        "\n",
        "print(\"b = \", b)\n",
        "print(b['영수'])\n",
        "key_list = list(b.keys()) #key_list = data.keys()는 key_list 사전 키라는 객체로 발안되기 때문에\n",
        "                          #실제로는 list(data.keys()) 로 형 변환시켜주는 것이 좋음\n",
        "print(key_list)\n",
        "\n",
        "#del data['name']: 지정한 key에 해당하는 {key : value}쌍 삭제"
      ],
      "execution_count": 2,
      "outputs": [
        {
          "output_type": "stream",
          "text": [
            "a =  {'지민': '00', '영수': '02', '민정': '01', '하준': '00'}\n",
            "b =  {'지민': '00', '영수': '02', '민정': '01', '하준': '00'}\n",
            "02\n",
            "['지민', '영수', '민정', '하준']\n"
          ],
          "name": "stdout"
        }
      ]
    },
    {
      "cell_type": "code",
      "metadata": {
        "id": "ztmPRX_AAX8B"
      },
      "source": [
        ""
      ],
      "execution_count": null,
      "outputs": []
    }
  ]
}