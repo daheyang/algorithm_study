{
  "nbformat": 4,
  "nbformat_minor": 0,
  "metadata": {
    "colab": {
      "name": "greedy algorithm.ipynb",
      "provenance": [],
      "authorship_tag": "ABX9TyOdjbPZQLVvqnznoy77sgDf"
    },
    "kernelspec": {
      "name": "python3",
      "display_name": "Python 3"
    },
    "language_info": {
      "name": "python"
    }
  },
  "cells": [
    {
      "cell_type": "markdown",
      "metadata": {
        "id": "ysq8CERvd9oX"
      },
      "source": [
        "### 그리디 알고리즘\n",
        "미래를 생각하지 않고 각 단계에서 가장 최선의 선택을 하는 기법\n",
        "\n",
        "최적해를 보장해주지는 않는다"
      ]
    },
    {
      "cell_type": "markdown",
      "metadata": {
        "id": "iv9RHmKEeM23"
      },
      "source": [
        "#Ex1 동전 지불\n",
        "500원, 100원, 50원, 10원짜리 동전이 무한히 존재한다고 가정\n",
        "\n",
        "손님에게 N원을 거슬러 줘야할 때 필요한 최소한 동전의 개수는? (N은 늘 10의 배수)\n"
      ]
    },
    {
      "cell_type": "code",
      "metadata": {
        "colab": {
          "base_uri": "https://localhost:8080/"
        },
        "id": "JN1XO18teor2",
        "outputId": "6bde4894-75f5-45d5-f74b-70da48af8b2b"
      },
      "source": [
        "# 가장 큰 단위부터 돈을 거슬러주면 됨\n",
        "\n",
        "n = 1260\n",
        "count = 0\n",
        "\n",
        "# 큰 단위의 화폐부터 차례대로 확인\n",
        "array = [500, 100, 50, 10]\n",
        "\n",
        "for i in array:\n",
        "  count += n//i # // : 나누었을 때 정수 해\n",
        "  '''n = n % i''' # (N %= i)는 (N = N % i) 와 동일 (왼쪽 변수에 왼쪽연산오른쪽 한 값을 넣는다)\n",
        "  n %= i\n",
        "\n",
        "print(count)"
      ],
      "execution_count": 2,
      "outputs": [
        {
          "output_type": "stream",
          "text": [
            "6\n"
          ],
          "name": "stdout"
        }
      ]
    },
    {
      "cell_type": "markdown",
      "metadata": {
        "id": "IV236TdXgnTX"
      },
      "source": [
        "화폐 종류가 K일 때, 소스 코드의 시간 복잡도는 O(K)\n",
        "\n",
        "알고리즘의 시간 복잡도는 금액 N과는 무관하며, 동전의 총 종류에만 영향을 받는다."
      ]
    },
    {
      "cell_type": "markdown",
      "metadata": {
        "id": "gpD2k78bgzty"
      },
      "source": [
        "##Ex2. 1이 될 때까지\n",
        "N이 1이 될 때까지 다음 두 과정 중 하나를 반복적으로 선택해 수행한다. (단, 두 번째 연산은 N이 K로 나누어 떨어질 때만 선택할 수 있다.)\n",
        "\n",
        "1. N에서 1을 뺀다.\n",
        "2. N을 K로 나눈다.\n",
        "\n",
        "N이 1이 될 때까지 1번 혹은 2번의 과정을 수행해야 하는 최소 횟수를 구하는 프로그램을 작성하라."
      ]
    },
    {
      "cell_type": "markdown",
      "metadata": {
        "id": "pooTyK30vtl3"
      },
      "source": [
        "i) greedy (o)"
      ]
    },
    {
      "cell_type": "code",
      "metadata": {
        "colab": {
          "base_uri": "https://localhost:8080/"
        },
        "id": "g9YctPX5gzWk",
        "outputId": "115c33b8-5103-4eea-c5e5-91926e7b3bca"
      },
      "source": [
        "# n, k 입력을 공백을 기준으로 받기, 정수\n",
        "n, k = map(int, input().split())\n",
        "count = 0\n",
        "\n",
        "while True:\n",
        "  value = (n // k) * k # value : n에서 k로 나누어 떨어지는 부분의 값\n",
        "  count += (n - value) # value까지 가기 위해 1 빼기 진행 카운트\n",
        "  n = value \n",
        "  if n < k: # n이 k보다 작아서 더이상 나눌 수 없다면 반복문 탈출\n",
        "     break\n",
        "  # n이 k보다 작지 않다면 반복문 다시 수행\n",
        "  n //= k\n",
        "  count += 1 # k로 나누기 수행한거 까먹지 말고 카운트\n",
        "\n",
        "count+= (n- 1) # 남은 n이 1<n<k 라면, n = 1이 될 때까지 카운트\n",
        "print(count)"
      ],
      "execution_count": 8,
      "outputs": [
        {
          "output_type": "stream",
          "text": [
            "25 5\n",
            "2\n"
          ],
          "name": "stdout"
        }
      ]
    },
    {
      "cell_type": "markdown",
      "metadata": {
        "id": "teHj1lCyuC8X"
      },
      "source": [
        "ii) greedy (x) :"
      ]
    },
    {
      "cell_type": "code",
      "metadata": {
        "colab": {
          "base_uri": "https://localhost:8080/"
        },
        "id": "pw8ffEN4kL6D",
        "outputId": "41a81e78-b098-4583-a133-b727d571eb67"
      },
      "source": [
        "n, k = map(int, input().split())\n",
        "count = 0\n",
        "\n",
        "while n != 1:\n",
        "  if n % k == 0:\n",
        "    n = n // k\n",
        "    count += 1\n",
        "  else:\n",
        "    n -= 1\n",
        "    count += 1\n",
        "\n",
        "print(count)"
      ],
      "execution_count": 10,
      "outputs": [
        {
          "output_type": "stream",
          "text": [
            "25 5\n",
            "2\n"
          ],
          "name": "stdout"
        }
      ]
    },
    {
      "cell_type": "markdown",
      "metadata": {
        "id": "tpzj2HCHtmJd"
      },
      "source": [
        "## greedy (o) ↔ greedy (x) 시간 비교"
      ]
    },
    {
      "cell_type": "code",
      "metadata": {
        "id": "eyYT4517vHv7"
      },
      "source": [
        "# time 모듈을 이용해 코드 실행시간 파악\n",
        "import time\n",
        "start = time.time()\n",
        "\n",
        "'''코드'''\n",
        "\n",
        "print(time.time()-start)"
      ],
      "execution_count": null,
      "outputs": []
    },
    {
      "cell_type": "code",
      "metadata": {
        "colab": {
          "base_uri": "https://localhost:8080/"
        },
        "id": "_aUan2aEtWGE",
        "outputId": "ef4fcf2e-c35a-4b20-9879-4d71770c15e2"
      },
      "source": [
        "import time\n",
        "start = time.time()\n",
        "\n",
        "n, k = map(int, input().split())\n",
        "count = 0\n",
        "\n",
        "while True:\n",
        "  value = (n // k) * k \n",
        "  count += (n - value) \n",
        "  n = value \n",
        "  if n < k: \n",
        "     break\n",
        "  \n",
        "  n //= k\n",
        "  count += 1\n",
        "\n",
        "count+= (n- 1)\n",
        "print(count)\n",
        "print(time.time() - start)"
      ],
      "execution_count": 11,
      "outputs": [
        {
          "output_type": "stream",
          "text": [
            "134 7\n",
            "9\n",
            "6.742595911026001\n"
          ],
          "name": "stdout"
        }
      ]
    },
    {
      "cell_type": "code",
      "metadata": {
        "colab": {
          "base_uri": "https://localhost:8080/"
        },
        "id": "nFg4avSHun54",
        "outputId": "9838df18-6a35-4b73-bfe7-1ae3391de1a9"
      },
      "source": [
        "import time\n",
        "start = time.time()\n",
        "\n",
        "n, k = map(int, input().split())\n",
        "count = 0\n",
        "\n",
        "while n != 1:\n",
        "  if n % k == 0:\n",
        "    n = n // k\n",
        "    count += 1\n",
        "  else:\n",
        "    n -= 1\n",
        "    count += 1\n",
        "\n",
        "print(count)\n",
        "print(time.time() - start)"
      ],
      "execution_count": 12,
      "outputs": [
        {
          "output_type": "stream",
          "text": [
            "134 7\n",
            "9\n",
            "3.3018178939819336\n"
          ],
          "name": "stdout"
        }
      ]
    },
    {
      "cell_type": "markdown",
      "metadata": {
        "id": "X2rdimG-wGes"
      },
      "source": [
        "시간 - greedy 알고리즘을 사용하지 않을 때 더 적게 측정됨"
      ]
    }
  ]
}