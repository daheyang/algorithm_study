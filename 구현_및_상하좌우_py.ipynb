{
  "nbformat": 4,
  "nbformat_minor": 0,
  "metadata": {
    "colab": {
      "name": "구현 및 상하좌우.py",
      "provenance": [],
      "authorship_tag": "ABX9TyMpDsVVMm1uMBce4kFRV6P7"
    },
    "kernelspec": {
      "name": "python3",
      "display_name": "Python 3"
    },
    "language_info": {
      "name": "python"
    }
  },
  "cells": [
    {
      "cell_type": "markdown",
      "metadata": {
        "id": "OzA5nJU3Uu-m"
      },
      "source": [
        "# 행렬  \n",
        "2차원 데이터를 표처럼 쉽게 나타내줌\n",
        " \n",
        "시뮬레이션 및 완전 탐색 문제 - 2차원 방향 벡터 이용\n"
      ]
    },
    {
      "cell_type": "code",
      "metadata": {
        "id": "tZ6a1i00Py1i"
      },
      "source": [
        "for iin range(5):\n",
        "  for j in range(5):\n",
        "    print('(', i, ',', j, ')', end =' ')\n",
        "    print()"
      ],
      "execution_count": null,
      "outputs": []
    },
    {
      "cell_type": "code",
      "metadata": {
        "id": "rmY-P8y79qwW"
      },
      "source": [
        "# 동, 북, 서, 남\n",
        "dx = [0, -1, 0, 1]  # 행\n",
        "dy = [1, 0, -1, 0]  # 열\n",
        "\n",
        "x, y = 2, 2 # 현 위치\n",
        "\n",
        "for i in range(4):\n",
        "  nx = x + dx[i]  # 다음 위치\n",
        "  ny= y + dy[i]\n",
        "  prin(nx, ny)"
      ],
      "execution_count": null,
      "outputs": []
    }
  ]
}