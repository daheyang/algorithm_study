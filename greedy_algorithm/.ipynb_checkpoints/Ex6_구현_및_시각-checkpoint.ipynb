{
 "cells": [
  {
   "cell_type": "markdown",
   "metadata": {
    "id": "8wQ2iE64Ngsa"
   },
   "source": [
    "##시각\n",
    "\n",
    "정수 N이 입력되었을 때 00시 00분 00초부터 N시 59분 59초까지 모든 시각 중 3이 하나라도 포함되는 모든 경우의 수를 구하기  \n",
    "(0 <= N <= 23)"
   ]
  },
  {
   "cell_type": "code",
   "execution_count": 2,
   "metadata": {
    "colab": {
     "base_uri": "https://localhost:8080/"
    },
    "id": "j_440ZTYNfkz",
    "outputId": "d6edb863-0313-420e-eeef-c6c0e73f20f9"
   },
   "outputs": [
    {
     "name": "stdout",
     "output_type": "stream",
     "text": [
      "5\n",
      "11475\n"
     ]
    }
   ],
   "source": [
    "h = int(input())\n",
    "\n",
    "count = 0\n",
    "for i in range(h + 1) # i는 0부터 h까지 1씩 증가\n",
    "  for j in range(60): # 분\n",
    "    for k in range(60): # 초\n",
    "      if '3' in str(i) + str(j) + str(k): # 시분초 나열해붙임\n",
    "        count += 1\n",
    "print(count)"
   ]
  }
 ],
 "metadata": {
  "colab": {
   "authorship_tag": "ABX9TyP/BHbZnv3yGeGpSdFNRtBr",
   "name": "시각.ipynb",
   "provenance": []
  },
  "kernelspec": {
   "display_name": "Python 3",
   "language": "python",
   "name": "python3"
  },
  "language_info": {
   "codemirror_mode": {
    "name": "ipython",
    "version": 3
   },
   "file_extension": ".py",
   "mimetype": "text/x-python",
   "name": "python",
   "nbconvert_exporter": "python",
   "pygments_lexer": "ipython3",
   "version": "3.8.8"
  }
 },
 "nbformat": 4,
 "nbformat_minor": 1
}
