{
  "nbformat": 4,
  "nbformat_minor": 0,
  "metadata": {
    "colab": {
      "name": "greedy algorithm.ipynb",
      "provenance": [],
      "authorship_tag": "ABX9TyPgnWrOttavSdSaeOJRFn4/"
    },
    "kernelspec": {
      "name": "python3",
      "display_name": "Python 3"
    },
    "language_info": {
      "name": "python"
    }
  },
  "cells": [
    {
      "cell_type": "markdown",
      "metadata": {
        "id": "ysq8CERvd9oX"
      },
      "source": [
        "### 그리디 알고리즘\n",
        "미래를 생각하지 않고 각 단계에서 가장 최선의 선택을 하는 기법\n",
        "\n",
        "최적해를 보장해주지는 않는다"
      ]
    },
    {
      "cell_type": "markdown",
      "metadata": {
        "id": "iv9RHmKEeM23"
      },
      "source": [
        "#Ex1 동전 지불\n",
        "500원, 100원, 50원, 10원짜리 동전이 무한히 존재한다고 가정\n",
        "\n",
        "손님에게 N원을 거슬러 줘야할 때 필요한 최소한 동전의 개수는? (N은 늘 10의 배수)\n"
      ]
    },
    {
      "cell_type": "code",
      "metadata": {
        "colab": {
          "base_uri": "https://localhost:8080/"
        },
        "id": "JN1XO18teor2",
        "outputId": "6bde4894-75f5-45d5-f74b-70da48af8b2b"
      },
      "source": [
        "# 가장 큰 단위부터 돈을 거슬러주면 됨\n",
        "\n",
        "n = 1260\n",
        "count = 0\n",
        "\n",
        "# 큰 단위의 화폐부터 차례대로 확인\n",
        "array = [500, 100, 50, 10]\n",
        "\n",
        "for i in array:\n",
        "  count += n//i # // : 나누었을 때 정수 해\n",
        "  '''n = n % i''' # (N %= i)는 (N = N % i) 와 동일 (왼쪽 변수에 왼쪽연산오른쪽 한 값을 넣는다)\n",
        "  n %= i\n",
        "\n",
        "print(count)"
      ],
      "execution_count": null,
      "outputs": [
        {
          "output_type": "stream",
          "text": [
            "6\n"
          ],
          "name": "stdout"
        }
      ]
    },
    {
      "cell_type": "markdown",
      "metadata": {
        "id": "IV236TdXgnTX"
      },
      "source": [
        "화폐 종류가 K일 때, 소스 코드의 시간 복잡도는 O(K)\n",
        "\n",
        "알고리즘의 시간 복잡도는 금액 N과는 무관하며, 동전의 총 종류에만 영향을 받는다."
      ]
    }
  ]
}
