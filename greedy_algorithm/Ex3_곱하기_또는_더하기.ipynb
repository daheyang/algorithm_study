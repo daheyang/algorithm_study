{
  "nbformat": 4,
  "nbformat_minor": 0,
  "metadata": {
    "colab": {
      "name": "Ex3_곱하기_또는_더하기.ipynb",
      "provenance": [],
      "authorship_tag": "ABX9TyOU7wuid+z7oUpa96ez3pXL"
    },
    "kernelspec": {
      "name": "python3",
      "display_name": "Python 3"
    },
    "language_info": {
      "name": "python"
    }
  },
  "cells": [
    {
      "cell_type": "markdown",
      "metadata": {
        "id": "ysq8CERvd9oX"
      },
      "source": [
        "### 그리디 알고리즘\n",
        "미래를 생각하지 않고 각 단계에서 가장 최선의 선택을 하는 기법\n",
        "\n",
        "최적해를 보장해주지는 않는다"
      ]
    },
    {
      "cell_type": "markdown",
      "metadata": {
        "id": "cxk6H3jzBKHd"
      },
      "source": [
        "## Ex3. 곱하기 또는 더하기\n",
        "\n",
        "각 자리가 숫자 0~9로 이루어진 문자열 s가주어졌을 때, 왼쪽부터 오른쪽으로 모든 숫자를 하나씩 확인하며 숫자사이에 * 혹은 + 연산자를 넣어 만들어질 수 있는 가장 큰 수를 구하는 프로그램을 작성하시오. (단, 모든 연산은 왼쪽에서부터 순서대로 이루어진다.)\n",
        "\n",
        "1 <= s의 길이 <= 20"
      ]
    },
    {
      "cell_type": "code",
      "metadata": {
        "colab": {
          "base_uri": "https://localhost:8080/"
        },
        "id": "5V9CJTDTBhfh",
        "outputId": "71c122bf-0c0e-4770-bc05-0bb5ad8f6b2d"
      },
      "source": [
        "s = input()\n",
        "i = 0\n",
        "# 첫번째 숫자를 문자로 변경해 대입\n",
        "number = int(s[0]) # 왼쪽 숫자 number\n",
        "\n",
        "for i in range(1, len(s)):\n",
        "  next = int(s[i]) # 그 다음 숫자\n",
        "  if number < 2 or next < 2:  # 두 수 중 하나라도 0이거나 1일 경우 더하기\n",
        "    number += next\n",
        "\n",
        "  else:\n",
        "    number *= next\n",
        "\n",
        "print(number)"
      ],
      "execution_count": null,
      "outputs": [
        {
          "output_type": "stream",
          "text": [
            "567\n",
            "210\n"
          ],
          "name": "stdout"
        }
      ]
    },
    {
      "cell_type": "markdown",
      "metadata": {
        "id": "le4KbLZj-Ksz"
      },
      "source": [
        "for loop에서 문자열의 길이 확인\n",
        "\n",
        "들어온 값 next 와 이전 값 number 중 하나라도 2 미만의 값을 가진다면 더해야 한다. (그 결과값은 number가 됨)\n",
        "\n"
      ]
    }
  ]
}
