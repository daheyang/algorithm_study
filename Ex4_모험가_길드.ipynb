{
  "nbformat": 4,
  "nbformat_minor": 0,
  "metadata": {
    "colab": {
      "name": "Ex4_모험가_길드.ipynb",
      "provenance": [],
      "authorship_tag": "ABX9TyOuxh9WAZ2spaLzqmxJoW9T"
    },
    "kernelspec": {
      "name": "python3",
      "display_name": "Python 3"
    },
    "language_info": {
      "name": "python"
    }
  },
  "cells": [
    {
      "cell_type": "markdown",
      "metadata": {
        "id": "zowRiwgetvUV"
      },
      "source": [
        "# 그리디 알고리즘\n",
        "미래를 생각하지 않고 각 단계에서 가장 최선의 선택을 하는 기법\n",
        "\n",
        "최적해를 보장해주지는 않는다"
      ]
    },
    {
      "cell_type": "markdown",
      "metadata": {
        "id": "8uQDba-_lttc"
      },
      "source": [
        "## Ex4. 모험가 길드\n",
        "N명의 모험가에 대한 정보가 주어졌을 때, 공포도가 x인 모험가는 반드시 x명 이상으로 구성된 모험가 그룹에 참여해야 여행을 떠날 수 있다. 여행을 떠날 수 있는 그룹 수의 최댓값은? (모험가 수 1 <= n <= 100000)"
      ]
    },
    {
      "cell_type": "code",
      "metadata": {
        "colab": {
          "base_uri": "https://localhost:8080/"
        },
        "id": "KVBlsA-3LsTK",
        "outputId": "3f3e64bd-366c-4b67-e21c-7ffb03afb2ee"
      },
      "source": [
        "n = input() # 모험가 수\n",
        "scared = list(map(int, input().split()))\n",
        "scared.sort() # 공포도 정렬\n",
        "\n",
        "group = 0 # 총 그룹의 수\n",
        "count = 0 # 현재 그룹에 포함된 모험가의 수\n",
        "\n",
        "for i in scared:  # 낮은 것부터 하나씩 공포도 확인하며\n",
        "  count += 1  # 현재 그룹에 모험가를 하나씩 포함시킴\n",
        "\n",
        "  if count >= i:  # 현재 그룹에 포험된 모험가의 수 >= 현재의 공포도\n",
        "    group += 1  # 그룹 마감, 총 그룹의 수 증가\n",
        "    count = 0 # 현재 그룹에 포함된 모험가의 수 초기화\n",
        "\n",
        "print(group)"
      ],
      "execution_count": 4,
      "outputs": [
        {
          "output_type": "stream",
          "text": [
            "5\n",
            "2 3 1 2 2\n",
            "2\n"
          ],
          "name": "stdout"
        }
      ]
    }
  ]
}